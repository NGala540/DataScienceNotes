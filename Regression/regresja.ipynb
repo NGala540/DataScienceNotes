{
  "cells": [
    {
      "cell_type": "code",
      "execution_count": null,
      "metadata": {
        "id": "17lQLPWADU3P"
      },
      "outputs": [],
      "source": [
        "%matplotlib inline\n",
        "import matplotlib.pyplot as plt\n",
        "import ipywidgets as widgets\n",
        "import pandas as pd\n",
        "import numpy as np\n",
        "\n",
        "from IPython.display import Math, clear_output"
      ]
    },
    {
      "cell_type": "code",
      "execution_count": null,
      "metadata": {
        "id": "9kVU3Uv-DU3R"
      },
      "outputs": [],
      "source": [
        "def linear_function(theta, x):\n",
        "    return theta[0] + theta[1] * x\n",
        "\n",
        "def plot_function(theta, X, color):\n",
        "    X_new = [min(X) - 1, max(X) + 1]\n",
        "    y_new = [linear_function(theta, x) for x in X_new]\n",
        "    plt.plot(X_new, y_new, linewidth=2, color=color)\n",
        "\n",
        "def plot_points(X, y):\n",
        "    plt.figure(figsize=(20, 10))\n",
        "    plt.scatter(X, y, s=200)\n",
        "    plt.xlabel(\"Liczba pożarów\")\n",
        "    plt.ylabel(\"Liczba włamań\")"
      ]
    },
    {
      "cell_type": "code",
      "execution_count": null,
      "metadata": {
        "id": "HIwqPPZ6DU3R"
      },
      "outputs": [],
      "source": [
        "# w powyższych komórkach nic nie zmieniamy"
      ]
    },
    {
      "cell_type": "markdown",
      "metadata": {
        "id": "r-ZzPII9DU3R"
      },
      "source": [
        "## Regresja liniowa\n",
        "\n",
        "Plik `fires_thefts.csv` zawiera rzeczywiste dane zebrane przez _U.S. Commission on Civil Rights_, przedstawiające liczbę pożarów w danej dzielnicy na tysiąc gospodarstw domowych (pierwsza kolumna) oraz liczbę włamań w tej samej dzielnicy na tysiąc mieszkańców (druga kolumna). Celem jest stworzenie modelu przewidującego liczbę włamań na podstawie liczby pożarów."
      ]
    },
    {
      "cell_type": "markdown",
      "metadata": {
        "id": "uAonFEWfDU3S"
      },
      "source": [
        "### Zadanie 1\n",
        "\n",
        "Odpowiedz na pytanie: jak będą wyglądały kolejne kroki metody gradientu prostego, gdy okaże się, że w pierwszym kroku współczynniki theta zostały zainicjalizowane wartościami wskazującymi na minimum lokalne?"
      ]
    },
    {
      "cell_type": "markdown",
      "metadata": {
        "id": "QStYQCkaDU3T"
      },
      "source": [
        "#### Odp. przestajemy szukać minimum, znaleźliśmy optymalny model"
      ]
    },
    {
      "cell_type": "markdown",
      "metadata": {
        "id": "2rBou0LYDU3T"
      },
      "source": [
        "### Zadanie 2\n",
        "\n",
        "Wczytaj dane z pliku, a następnie stwórz zmienne X i y oraz przypisz im odpowiednie wartości."
      ]
    },
    {
      "cell_type": "code",
      "execution_count": null,
      "metadata": {
        "colab": {
          "base_uri": "https://localhost:8080/",
          "height": 1000
        },
        "id": "tcbovBr9DU3T",
        "outputId": "9e9facd3-6405-42b5-e8c5-d6bae11bc8fa"
      },
      "outputs": [
        {
          "output_type": "execute_result",
          "data": {
            "text/plain": [
              "    fires  thefts\n",
              "0     6.2      29\n",
              "1     9.5      44\n",
              "2    10.5      36\n",
              "3     7.7      37\n",
              "4     8.6      53\n",
              "5    34.1      68\n",
              "6    11.0      75\n",
              "7     6.9      18\n",
              "8     7.3      31\n",
              "9    15.1      25\n",
              "10   29.1      34\n",
              "11    2.2      14\n",
              "12    5.7      11\n",
              "13    2.0      11\n",
              "14    2.5      22\n",
              "15    4.0      16\n",
              "16    5.4      27\n",
              "17    2.2       9\n",
              "18    7.2      29\n",
              "19   15.1      30\n",
              "20   16.5      40\n",
              "21   18.4      32\n",
              "22   36.2      41\n",
              "23   39.7     147\n",
              "24   18.5      22\n",
              "25   23.3      29\n",
              "26   12.2      46\n",
              "27    5.6      23\n",
              "28   21.8       4\n",
              "29   21.6      31\n",
              "30    9.0      39\n",
              "31    3.6      15\n",
              "32    5.0      32\n",
              "33   28.6      27\n",
              "34   17.4      32\n",
              "35   11.3      34\n",
              "36    3.4      17\n",
              "37   11.9      46\n",
              "38   10.5      42\n",
              "39   10.7      43\n",
              "40   10.8      34\n",
              "41    4.8      19"
            ],
            "text/html": [
              "\n",
              "  <div id=\"df-77434abc-6fe6-4626-9862-2f852723cdb8\">\n",
              "    <div class=\"colab-df-container\">\n",
              "      <div>\n",
              "<style scoped>\n",
              "    .dataframe tbody tr th:only-of-type {\n",
              "        vertical-align: middle;\n",
              "    }\n",
              "\n",
              "    .dataframe tbody tr th {\n",
              "        vertical-align: top;\n",
              "    }\n",
              "\n",
              "    .dataframe thead th {\n",
              "        text-align: right;\n",
              "    }\n",
              "</style>\n",
              "<table border=\"1\" class=\"dataframe\">\n",
              "  <thead>\n",
              "    <tr style=\"text-align: right;\">\n",
              "      <th></th>\n",
              "      <th>fires</th>\n",
              "      <th>thefts</th>\n",
              "    </tr>\n",
              "  </thead>\n",
              "  <tbody>\n",
              "    <tr>\n",
              "      <th>0</th>\n",
              "      <td>6.2</td>\n",
              "      <td>29</td>\n",
              "    </tr>\n",
              "    <tr>\n",
              "      <th>1</th>\n",
              "      <td>9.5</td>\n",
              "      <td>44</td>\n",
              "    </tr>\n",
              "    <tr>\n",
              "      <th>2</th>\n",
              "      <td>10.5</td>\n",
              "      <td>36</td>\n",
              "    </tr>\n",
              "    <tr>\n",
              "      <th>3</th>\n",
              "      <td>7.7</td>\n",
              "      <td>37</td>\n",
              "    </tr>\n",
              "    <tr>\n",
              "      <th>4</th>\n",
              "      <td>8.6</td>\n",
              "      <td>53</td>\n",
              "    </tr>\n",
              "    <tr>\n",
              "      <th>5</th>\n",
              "      <td>34.1</td>\n",
              "      <td>68</td>\n",
              "    </tr>\n",
              "    <tr>\n",
              "      <th>6</th>\n",
              "      <td>11.0</td>\n",
              "      <td>75</td>\n",
              "    </tr>\n",
              "    <tr>\n",
              "      <th>7</th>\n",
              "      <td>6.9</td>\n",
              "      <td>18</td>\n",
              "    </tr>\n",
              "    <tr>\n",
              "      <th>8</th>\n",
              "      <td>7.3</td>\n",
              "      <td>31</td>\n",
              "    </tr>\n",
              "    <tr>\n",
              "      <th>9</th>\n",
              "      <td>15.1</td>\n",
              "      <td>25</td>\n",
              "    </tr>\n",
              "    <tr>\n",
              "      <th>10</th>\n",
              "      <td>29.1</td>\n",
              "      <td>34</td>\n",
              "    </tr>\n",
              "    <tr>\n",
              "      <th>11</th>\n",
              "      <td>2.2</td>\n",
              "      <td>14</td>\n",
              "    </tr>\n",
              "    <tr>\n",
              "      <th>12</th>\n",
              "      <td>5.7</td>\n",
              "      <td>11</td>\n",
              "    </tr>\n",
              "    <tr>\n",
              "      <th>13</th>\n",
              "      <td>2.0</td>\n",
              "      <td>11</td>\n",
              "    </tr>\n",
              "    <tr>\n",
              "      <th>14</th>\n",
              "      <td>2.5</td>\n",
              "      <td>22</td>\n",
              "    </tr>\n",
              "    <tr>\n",
              "      <th>15</th>\n",
              "      <td>4.0</td>\n",
              "      <td>16</td>\n",
              "    </tr>\n",
              "    <tr>\n",
              "      <th>16</th>\n",
              "      <td>5.4</td>\n",
              "      <td>27</td>\n",
              "    </tr>\n",
              "    <tr>\n",
              "      <th>17</th>\n",
              "      <td>2.2</td>\n",
              "      <td>9</td>\n",
              "    </tr>\n",
              "    <tr>\n",
              "      <th>18</th>\n",
              "      <td>7.2</td>\n",
              "      <td>29</td>\n",
              "    </tr>\n",
              "    <tr>\n",
              "      <th>19</th>\n",
              "      <td>15.1</td>\n",
              "      <td>30</td>\n",
              "    </tr>\n",
              "    <tr>\n",
              "      <th>20</th>\n",
              "      <td>16.5</td>\n",
              "      <td>40</td>\n",
              "    </tr>\n",
              "    <tr>\n",
              "      <th>21</th>\n",
              "      <td>18.4</td>\n",
              "      <td>32</td>\n",
              "    </tr>\n",
              "    <tr>\n",
              "      <th>22</th>\n",
              "      <td>36.2</td>\n",
              "      <td>41</td>\n",
              "    </tr>\n",
              "    <tr>\n",
              "      <th>23</th>\n",
              "      <td>39.7</td>\n",
              "      <td>147</td>\n",
              "    </tr>\n",
              "    <tr>\n",
              "      <th>24</th>\n",
              "      <td>18.5</td>\n",
              "      <td>22</td>\n",
              "    </tr>\n",
              "    <tr>\n",
              "      <th>25</th>\n",
              "      <td>23.3</td>\n",
              "      <td>29</td>\n",
              "    </tr>\n",
              "    <tr>\n",
              "      <th>26</th>\n",
              "      <td>12.2</td>\n",
              "      <td>46</td>\n",
              "    </tr>\n",
              "    <tr>\n",
              "      <th>27</th>\n",
              "      <td>5.6</td>\n",
              "      <td>23</td>\n",
              "    </tr>\n",
              "    <tr>\n",
              "      <th>28</th>\n",
              "      <td>21.8</td>\n",
              "      <td>4</td>\n",
              "    </tr>\n",
              "    <tr>\n",
              "      <th>29</th>\n",
              "      <td>21.6</td>\n",
              "      <td>31</td>\n",
              "    </tr>\n",
              "    <tr>\n",
              "      <th>30</th>\n",
              "      <td>9.0</td>\n",
              "      <td>39</td>\n",
              "    </tr>\n",
              "    <tr>\n",
              "      <th>31</th>\n",
              "      <td>3.6</td>\n",
              "      <td>15</td>\n",
              "    </tr>\n",
              "    <tr>\n",
              "      <th>32</th>\n",
              "      <td>5.0</td>\n",
              "      <td>32</td>\n",
              "    </tr>\n",
              "    <tr>\n",
              "      <th>33</th>\n",
              "      <td>28.6</td>\n",
              "      <td>27</td>\n",
              "    </tr>\n",
              "    <tr>\n",
              "      <th>34</th>\n",
              "      <td>17.4</td>\n",
              "      <td>32</td>\n",
              "    </tr>\n",
              "    <tr>\n",
              "      <th>35</th>\n",
              "      <td>11.3</td>\n",
              "      <td>34</td>\n",
              "    </tr>\n",
              "    <tr>\n",
              "      <th>36</th>\n",
              "      <td>3.4</td>\n",
              "      <td>17</td>\n",
              "    </tr>\n",
              "    <tr>\n",
              "      <th>37</th>\n",
              "      <td>11.9</td>\n",
              "      <td>46</td>\n",
              "    </tr>\n",
              "    <tr>\n",
              "      <th>38</th>\n",
              "      <td>10.5</td>\n",
              "      <td>42</td>\n",
              "    </tr>\n",
              "    <tr>\n",
              "      <th>39</th>\n",
              "      <td>10.7</td>\n",
              "      <td>43</td>\n",
              "    </tr>\n",
              "    <tr>\n",
              "      <th>40</th>\n",
              "      <td>10.8</td>\n",
              "      <td>34</td>\n",
              "    </tr>\n",
              "    <tr>\n",
              "      <th>41</th>\n",
              "      <td>4.8</td>\n",
              "      <td>19</td>\n",
              "    </tr>\n",
              "  </tbody>\n",
              "</table>\n",
              "</div>\n",
              "      <button class=\"colab-df-convert\" onclick=\"convertToInteractive('df-77434abc-6fe6-4626-9862-2f852723cdb8')\"\n",
              "              title=\"Convert this dataframe to an interactive table.\"\n",
              "              style=\"display:none;\">\n",
              "        \n",
              "  <svg xmlns=\"http://www.w3.org/2000/svg\" height=\"24px\"viewBox=\"0 0 24 24\"\n",
              "       width=\"24px\">\n",
              "    <path d=\"M0 0h24v24H0V0z\" fill=\"none\"/>\n",
              "    <path d=\"M18.56 5.44l.94 2.06.94-2.06 2.06-.94-2.06-.94-.94-2.06-.94 2.06-2.06.94zm-11 1L8.5 8.5l.94-2.06 2.06-.94-2.06-.94L8.5 2.5l-.94 2.06-2.06.94zm10 10l.94 2.06.94-2.06 2.06-.94-2.06-.94-.94-2.06-.94 2.06-2.06.94z\"/><path d=\"M17.41 7.96l-1.37-1.37c-.4-.4-.92-.59-1.43-.59-.52 0-1.04.2-1.43.59L10.3 9.45l-7.72 7.72c-.78.78-.78 2.05 0 2.83L4 21.41c.39.39.9.59 1.41.59.51 0 1.02-.2 1.41-.59l7.78-7.78 2.81-2.81c.8-.78.8-2.07 0-2.86zM5.41 20L4 18.59l7.72-7.72 1.47 1.35L5.41 20z\"/>\n",
              "  </svg>\n",
              "      </button>\n",
              "      \n",
              "  <style>\n",
              "    .colab-df-container {\n",
              "      display:flex;\n",
              "      flex-wrap:wrap;\n",
              "      gap: 12px;\n",
              "    }\n",
              "\n",
              "    .colab-df-convert {\n",
              "      background-color: #E8F0FE;\n",
              "      border: none;\n",
              "      border-radius: 50%;\n",
              "      cursor: pointer;\n",
              "      display: none;\n",
              "      fill: #1967D2;\n",
              "      height: 32px;\n",
              "      padding: 0 0 0 0;\n",
              "      width: 32px;\n",
              "    }\n",
              "\n",
              "    .colab-df-convert:hover {\n",
              "      background-color: #E2EBFA;\n",
              "      box-shadow: 0px 1px 2px rgba(60, 64, 67, 0.3), 0px 1px 3px 1px rgba(60, 64, 67, 0.15);\n",
              "      fill: #174EA6;\n",
              "    }\n",
              "\n",
              "    [theme=dark] .colab-df-convert {\n",
              "      background-color: #3B4455;\n",
              "      fill: #D2E3FC;\n",
              "    }\n",
              "\n",
              "    [theme=dark] .colab-df-convert:hover {\n",
              "      background-color: #434B5C;\n",
              "      box-shadow: 0px 1px 3px 1px rgba(0, 0, 0, 0.15);\n",
              "      filter: drop-shadow(0px 1px 2px rgba(0, 0, 0, 0.3));\n",
              "      fill: #FFFFFF;\n",
              "    }\n",
              "  </style>\n",
              "\n",
              "      <script>\n",
              "        const buttonEl =\n",
              "          document.querySelector('#df-77434abc-6fe6-4626-9862-2f852723cdb8 button.colab-df-convert');\n",
              "        buttonEl.style.display =\n",
              "          google.colab.kernel.accessAllowed ? 'block' : 'none';\n",
              "\n",
              "        async function convertToInteractive(key) {\n",
              "          const element = document.querySelector('#df-77434abc-6fe6-4626-9862-2f852723cdb8');\n",
              "          const dataTable =\n",
              "            await google.colab.kernel.invokeFunction('convertToInteractive',\n",
              "                                                     [key], {});\n",
              "          if (!dataTable) return;\n",
              "\n",
              "          const docLinkHtml = 'Like what you see? Visit the ' +\n",
              "            '<a target=\"_blank\" href=https://colab.research.google.com/notebooks/data_table.ipynb>data table notebook</a>'\n",
              "            + ' to learn more about interactive tables.';\n",
              "          element.innerHTML = '';\n",
              "          dataTable['output_type'] = 'display_data';\n",
              "          await google.colab.output.renderOutput(dataTable, element);\n",
              "          const docLink = document.createElement('div');\n",
              "          docLink.innerHTML = docLinkHtml;\n",
              "          element.appendChild(docLink);\n",
              "        }\n",
              "      </script>\n",
              "    </div>\n",
              "  </div>\n",
              "  "
            ]
          },
          "metadata": {},
          "execution_count": 2
        }
      ],
      "source": [
        "DATA_PATH = 'fires_thefts.csv'\n",
        "\n",
        "df = pd.read_csv(DATA_PATH)\n",
        "df"
      ]
    },
    {
      "cell_type": "code",
      "source": [
        "df.shape"
      ],
      "metadata": {
        "colab": {
          "base_uri": "https://localhost:8080/"
        },
        "id": "Td0sLM6OJN30",
        "outputId": "13602ea1-859c-4d2e-f424-d50f3136ab63"
      },
      "execution_count": null,
      "outputs": [
        {
          "output_type": "execute_result",
          "data": {
            "text/plain": [
              "(42, 2)"
            ]
          },
          "metadata": {},
          "execution_count": 5
        }
      ]
    },
    {
      "cell_type": "code",
      "source": [
        "X = df[['fires']].values\n",
        "y = df['thefts'].values"
      ],
      "metadata": {
        "id": "yr-mgllyJRbl"
      },
      "execution_count": null,
      "outputs": []
    },
    {
      "cell_type": "code",
      "source": [
        "print(X)\n",
        "type(X)"
      ],
      "metadata": {
        "colab": {
          "base_uri": "https://localhost:8080/"
        },
        "id": "n5Yt1iXqJRVP",
        "outputId": "1bd3f331-1210-4018-e741-d1eed9ae9515"
      },
      "execution_count": null,
      "outputs": [
        {
          "output_type": "stream",
          "name": "stdout",
          "text": [
            "[[ 6.2]\n",
            " [ 9.5]\n",
            " [10.5]\n",
            " [ 7.7]\n",
            " [ 8.6]\n",
            " [34.1]\n",
            " [11. ]\n",
            " [ 6.9]\n",
            " [ 7.3]\n",
            " [15.1]\n",
            " [29.1]\n",
            " [ 2.2]\n",
            " [ 5.7]\n",
            " [ 2. ]\n",
            " [ 2.5]\n",
            " [ 4. ]\n",
            " [ 5.4]\n",
            " [ 2.2]\n",
            " [ 7.2]\n",
            " [15.1]\n",
            " [16.5]\n",
            " [18.4]\n",
            " [36.2]\n",
            " [39.7]\n",
            " [18.5]\n",
            " [23.3]\n",
            " [12.2]\n",
            " [ 5.6]\n",
            " [21.8]\n",
            " [21.6]\n",
            " [ 9. ]\n",
            " [ 3.6]\n",
            " [ 5. ]\n",
            " [28.6]\n",
            " [17.4]\n",
            " [11.3]\n",
            " [ 3.4]\n",
            " [11.9]\n",
            " [10.5]\n",
            " [10.7]\n",
            " [10.8]\n",
            " [ 4.8]]\n"
          ]
        },
        {
          "output_type": "execute_result",
          "data": {
            "text/plain": [
              "numpy.ndarray"
            ]
          },
          "metadata": {},
          "execution_count": 51
        }
      ]
    },
    {
      "cell_type": "code",
      "source": [
        "type(y)"
      ],
      "metadata": {
        "colab": {
          "base_uri": "https://localhost:8080/"
        },
        "id": "ciQxfB5fJRFy",
        "outputId": "31f2eb58-f360-452d-ed48-e026b57180a0"
      },
      "execution_count": null,
      "outputs": [
        {
          "output_type": "execute_result",
          "data": {
            "text/plain": [
              "numpy.ndarray"
            ]
          },
          "metadata": {},
          "execution_count": 48
        }
      ]
    },
    {
      "cell_type": "markdown",
      "metadata": {
        "id": "i5XJ27sYDU3T"
      },
      "source": [
        "### Zadanie 3\n",
        "\n",
        "Dokończ implementację funkcji J, która jest funkcją kosztu i realizuję metodę najmniejszych kwadratów. dla przypomnienia, jej wzór wygląda następująco:\n",
        "\n",
        "$$\\begin{array}{rll} J(\\theta) &=& \\dfrac{1}{2m} \\displaystyle\\sum_{i=1}^{m} \\left(h_{\\theta}(x^{(i)})  - y^{(i)}\\right)^2\n",
        "\\end{array} $$\n",
        "\n",
        "gdzie $m$ - liczba przykładów w zestawie danych"
      ]
    },
    {
      "cell_type": "code",
      "execution_count": null,
      "metadata": {
        "id": "oqR0twhFDU3U"
      },
      "outputs": [],
      "source": [
        "def J(h, theta, X, y):\n",
        "    # h to funkcja\n",
        "    # theta to lista współczynników: [theta_0, theta_1]\n",
        "    # X i y to zmienne przechowujące dane\n",
        "    # wywołanie tej funkcji w sposób J(linear_function, [1, 2], X, y) powinno zwrócić wartość 228.41857142857137\n",
        "    m = len(X)\n",
        "    # sum = 0\n",
        "    # for i in range(m):\n",
        "    #   sum += (h(theta, X[i, 0]) - y[i])**2\n",
        "\n",
        "    # return sum/(2*m)\n",
        "    return sum([(h(theta, X[i, 0]) - y[i])**2 for i in range(m)])/(2*m)\n"
      ]
    },
    {
      "cell_type": "code",
      "source": [
        "J(linear_function, [1, 2], X, y)"
      ],
      "metadata": {
        "colab": {
          "base_uri": "https://localhost:8080/"
        },
        "id": "rzDunVHAQJW8",
        "outputId": "a3583724-8661-4916-bd88-07b545ad5b22"
      },
      "execution_count": null,
      "outputs": [
        {
          "output_type": "execute_result",
          "data": {
            "text/plain": [
              "228.4185714285714"
            ]
          },
          "metadata": {},
          "execution_count": 31
        }
      ]
    },
    {
      "cell_type": "markdown",
      "metadata": {
        "id": "kCxZCu2EDU3U"
      },
      "source": [
        "### Zadanie 4\n",
        "\n",
        "Dobierz ręcznie, przy pomocy poniższych widgetów (nie zmieniając kodu) parametry theta w taki sposób, by wartość funkcji kosztu była możliwie jak najmniejsza"
      ]
    },
    {
      "cell_type": "code",
      "execution_count": null,
      "metadata": {
        "colab": {
          "base_uri": "https://localhost:8080/",
          "height": 459,
          "referenced_widgets": [
            "3a6104379cc34f8abca4872470b140c6",
            "b0ca92f8a9434e49a28ffed78fe374b2",
            "4d5f16e675dc4271b8266ea63d0ce448",
            "0d12f98fda45465182f9ac72a49c4468",
            "d64099fd81a242cfb9e98d7d8c1e6901",
            "3f689e143b2640f29a9664f33c479f70",
            "be1782d73bdd4cb8839a36c41580f5b6",
            "2681c17b66554b81b505547be039181e",
            "5772f0f29e52456fbea180d479c80aac",
            "f8fb28a09013407390869ad05170a06b",
            "b0e5a12941eb4ebbbf0dd9ccdb6f3835",
            "82e126e2c71e42c9b1090c0eba55ad5a",
            "c7d63f4b76e849eeb3a65b4a42259338"
          ]
        },
        "id": "aaGA16MsDU3U",
        "outputId": "a8ea7293-63ca-43ba-9479-44d20583d332"
      },
      "outputs": [
        {
          "output_type": "display_data",
          "data": {
            "text/plain": [
              "VBox(children=(FloatSlider(value=0.0, description='theta0', layout=Layout(width='auto'), max=20.0, min=-20.0),…"
            ],
            "application/vnd.jupyter.widget-view+json": {
              "version_major": 2,
              "version_minor": 0,
              "model_id": "3a6104379cc34f8abca4872470b140c6"
            }
          },
          "metadata": {}
        },
        {
          "output_type": "display_data",
          "data": {
            "text/plain": [
              "Output()"
            ],
            "application/vnd.jupyter.widget-view+json": {
              "version_major": 2,
              "version_minor": 0,
              "model_id": "82e126e2c71e42c9b1090c0eba55ad5a"
            }
          },
          "metadata": {}
        }
      ],
      "source": [
        "slider_theta_0 = widgets.FloatSlider(min=-20, max=20, step=0.1, value=0, description=r'theta0', layout={'width': \"auto\"})\n",
        "slider_theta_1 = widgets.FloatSlider(min=-20, max=20, step=0.1, value=0, description=r'theta1', layout={'width': \"auto\"})\n",
        "out = widgets.Output()\n",
        "button = widgets.Button(width=100, description=\"Show\")\n",
        "\n",
        "def btn_event_handler(event):\n",
        "    with out:\n",
        "        clear_output(wait=True)\n",
        "        plot_points(X, y)\n",
        "        plot_function([slider_theta_0.value, slider_theta_1.value], X, 'r')\n",
        "        plt.show()\n",
        "        display(Math(rf\"\\Large J(\\theta) = {J(linear_function, [slider_theta_0.value, slider_theta_1.value], X, y):.4f}\"))\n",
        "        \n",
        "        \n",
        "with out:\n",
        "    plot_points(X, y)\n",
        "    plt.show()\n",
        "\n",
        "button.on_click(btn_event_handler)\n",
        "display(widgets.VBox([slider_theta_0, slider_theta_1, button]))\n",
        "display(out)\n",
        "\n",
        "# Parametry:\n",
        "# theta0 = 12.10\n",
        "# theta1 = 1.6\n",
        "# Wynik = 184.9472"
      ]
    },
    {
      "cell_type": "code",
      "source": [],
      "metadata": {
        "id": "0SdCcqcGXCJr"
      },
      "execution_count": null,
      "outputs": []
    },
    {
      "cell_type": "markdown",
      "metadata": {
        "id": "CW-SaWRiDU3U"
      },
      "source": [
        "### Zadanie 5\n",
        "\n",
        "Wytrenuj na tych danych model regresji liniowej"
      ]
    },
    {
      "cell_type": "code",
      "source": [
        "from sklearn.linear_model import LinearRegression \n",
        "import statsmodels.api as sma"
      ],
      "metadata": {
        "id": "OQ9biVS9PxyT"
      },
      "execution_count": null,
      "outputs": []
    },
    {
      "cell_type": "code",
      "execution_count": null,
      "metadata": {
        "colab": {
          "base_uri": "https://localhost:8080/",
          "height": 74
        },
        "id": "bUhSRlorDU3V",
        "outputId": "2b07a58a-9474-4ac4-a657-25c436c6960a"
      },
      "outputs": [
        {
          "output_type": "execute_result",
          "data": {
            "text/plain": [
              "LinearRegression()"
            ],
            "text/html": [
              "<style>#sk-container-id-1 {color: black;background-color: white;}#sk-container-id-1 pre{padding: 0;}#sk-container-id-1 div.sk-toggleable {background-color: white;}#sk-container-id-1 label.sk-toggleable__label {cursor: pointer;display: block;width: 100%;margin-bottom: 0;padding: 0.3em;box-sizing: border-box;text-align: center;}#sk-container-id-1 label.sk-toggleable__label-arrow:before {content: \"▸\";float: left;margin-right: 0.25em;color: #696969;}#sk-container-id-1 label.sk-toggleable__label-arrow:hover:before {color: black;}#sk-container-id-1 div.sk-estimator:hover label.sk-toggleable__label-arrow:before {color: black;}#sk-container-id-1 div.sk-toggleable__content {max-height: 0;max-width: 0;overflow: hidden;text-align: left;background-color: #f0f8ff;}#sk-container-id-1 div.sk-toggleable__content pre {margin: 0.2em;color: black;border-radius: 0.25em;background-color: #f0f8ff;}#sk-container-id-1 input.sk-toggleable__control:checked~div.sk-toggleable__content {max-height: 200px;max-width: 100%;overflow: auto;}#sk-container-id-1 input.sk-toggleable__control:checked~label.sk-toggleable__label-arrow:before {content: \"▾\";}#sk-container-id-1 div.sk-estimator input.sk-toggleable__control:checked~label.sk-toggleable__label {background-color: #d4ebff;}#sk-container-id-1 div.sk-label input.sk-toggleable__control:checked~label.sk-toggleable__label {background-color: #d4ebff;}#sk-container-id-1 input.sk-hidden--visually {border: 0;clip: rect(1px 1px 1px 1px);clip: rect(1px, 1px, 1px, 1px);height: 1px;margin: -1px;overflow: hidden;padding: 0;position: absolute;width: 1px;}#sk-container-id-1 div.sk-estimator {font-family: monospace;background-color: #f0f8ff;border: 1px dotted black;border-radius: 0.25em;box-sizing: border-box;margin-bottom: 0.5em;}#sk-container-id-1 div.sk-estimator:hover {background-color: #d4ebff;}#sk-container-id-1 div.sk-parallel-item::after {content: \"\";width: 100%;border-bottom: 1px solid gray;flex-grow: 1;}#sk-container-id-1 div.sk-label:hover label.sk-toggleable__label {background-color: #d4ebff;}#sk-container-id-1 div.sk-serial::before {content: \"\";position: absolute;border-left: 1px solid gray;box-sizing: border-box;top: 0;bottom: 0;left: 50%;z-index: 0;}#sk-container-id-1 div.sk-serial {display: flex;flex-direction: column;align-items: center;background-color: white;padding-right: 0.2em;padding-left: 0.2em;position: relative;}#sk-container-id-1 div.sk-item {position: relative;z-index: 1;}#sk-container-id-1 div.sk-parallel {display: flex;align-items: stretch;justify-content: center;background-color: white;position: relative;}#sk-container-id-1 div.sk-item::before, #sk-container-id-1 div.sk-parallel-item::before {content: \"\";position: absolute;border-left: 1px solid gray;box-sizing: border-box;top: 0;bottom: 0;left: 50%;z-index: -1;}#sk-container-id-1 div.sk-parallel-item {display: flex;flex-direction: column;z-index: 1;position: relative;background-color: white;}#sk-container-id-1 div.sk-parallel-item:first-child::after {align-self: flex-end;width: 50%;}#sk-container-id-1 div.sk-parallel-item:last-child::after {align-self: flex-start;width: 50%;}#sk-container-id-1 div.sk-parallel-item:only-child::after {width: 0;}#sk-container-id-1 div.sk-dashed-wrapped {border: 1px dashed gray;margin: 0 0.4em 0.5em 0.4em;box-sizing: border-box;padding-bottom: 0.4em;background-color: white;}#sk-container-id-1 div.sk-label label {font-family: monospace;font-weight: bold;display: inline-block;line-height: 1.2em;}#sk-container-id-1 div.sk-label-container {text-align: center;}#sk-container-id-1 div.sk-container {/* jupyter's `normalize.less` sets `[hidden] { display: none; }` but bootstrap.min.css set `[hidden] { display: none !important; }` so we also need the `!important` here to be able to override the default hidden behavior on the sphinx rendered scikit-learn.org. See: https://github.com/scikit-learn/scikit-learn/issues/21755 */display: inline-block !important;position: relative;}#sk-container-id-1 div.sk-text-repr-fallback {display: none;}</style><div id=\"sk-container-id-1\" class=\"sk-top-container\"><div class=\"sk-text-repr-fallback\"><pre>LinearRegression()</pre><b>In a Jupyter environment, please rerun this cell to show the HTML representation or trust the notebook. <br />On GitHub, the HTML representation is unable to render, please try loading this page with nbviewer.org.</b></div><div class=\"sk-container\" hidden><div class=\"sk-item\"><div class=\"sk-estimator sk-toggleable\"><input class=\"sk-toggleable__control sk-hidden--visually\" id=\"sk-estimator-id-1\" type=\"checkbox\" checked><label for=\"sk-estimator-id-1\" class=\"sk-toggleable__label sk-toggleable__label-arrow\">LinearRegression</label><div class=\"sk-toggleable__content\"><pre>LinearRegression()</pre></div></div></div></div></div>"
            ]
          },
          "metadata": {},
          "execution_count": 32
        }
      ],
      "source": [
        "model = LinearRegression()\n",
        "model.fit(X, y)\n"
      ]
    },
    {
      "cell_type": "code",
      "source": [
        "X2 = sma.add_constant(X)\n",
        "OLS_model = sma.OLS(y, X2)\n",
        "\n",
        "print(OLS_model.fit().summary())"
      ],
      "metadata": {
        "colab": {
          "base_uri": "https://localhost:8080/"
        },
        "id": "-Q1GlQIoRidv",
        "outputId": "a4d36520-6c7c-4b15-9ba5-43e7dee20dc1"
      },
      "execution_count": null,
      "outputs": [
        {
          "output_type": "stream",
          "name": "stdout",
          "text": [
            "                            OLS Regression Results                            \n",
            "==============================================================================\n",
            "Dep. Variable:                      y   R-squared:                       0.304\n",
            "Model:                            OLS   Adj. R-squared:                  0.286\n",
            "Method:                 Least Squares   F-statistic:                     17.45\n",
            "Date:                Wed, 05 Apr 2023   Prob (F-statistic):           0.000155\n",
            "Time:                        16:37:31   Log-Likelihood:                -183.25\n",
            "No. Observations:                  42   AIC:                             370.5\n",
            "Df Residuals:                      40   BIC:                             374.0\n",
            "Df Model:                           1                                         \n",
            "Covariance Type:            nonrobust                                         \n",
            "==============================================================================\n",
            "                 coef    std err          t      P>|t|      [0.025      0.975]\n",
            "------------------------------------------------------------------------------\n",
            "const         16.9952      4.995      3.403      0.002       6.900      27.090\n",
            "x1             1.3135      0.314      4.177      0.000       0.678       1.949\n",
            "==============================================================================\n",
            "Omnibus:                       26.522   Durbin-Watson:                   2.208\n",
            "Prob(Omnibus):                  0.000   Jarque-Bera (JB):               65.671\n",
            "Skew:                           1.537   Prob(JB):                     5.49e-15\n",
            "Kurtosis:                       8.299   Cond. No.                         26.5\n",
            "==============================================================================\n",
            "\n",
            "Notes:\n",
            "[1] Standard Errors assume that the covariance matrix of the errors is correctly specified.\n"
          ]
        }
      ]
    },
    {
      "cell_type": "markdown",
      "source": [],
      "metadata": {
        "id": "3UfObb3zjjDV"
      }
    },
    {
      "cell_type": "markdown",
      "metadata": {
        "id": "mh4HsXW6DU3V"
      },
      "source": [
        "### Zadanie 6\n",
        "\n",
        "Korzystając z zaimplementowanych wyżej funkcji oraz współczynników wytrenowanego modelu nanieś na wykres prostę regresyjną i oblicz wartość funkcji kosztu dla tych współczynników. Spójrz, jak daleko byłeś od idealnego rozwiązania dobierając parametry ręcznie."
      ]
    },
    {
      "cell_type": "code",
      "execution_count": null,
      "metadata": {
        "colab": {
          "base_uri": "https://localhost:8080/",
          "height": 363
        },
        "id": "QLVp95KuDU3V",
        "outputId": "844e5038-6294-41c3-c1a8-dc5858e7a1cb"
      },
      "outputs": [
        {
          "output_type": "stream",
          "name": "stdout",
          "text": [
            "180.4100782065511\n"
          ]
        },
        {
          "output_type": "display_data",
          "data": {
            "text/plain": [
              "<Figure size 2000x1000 with 1 Axes>"
            ],
            "image/png": "[encoded data removed]"
          },
          "metadata": {}
        }
      ],
      "source": [
        "plot_points(X, y)\n",
        "plot_function(theta=[model.intercept_, model.coef_[0]], X=X, color='red')\n",
        "print(J(h=linear_function, theta=[model.intercept_, model.coef_[0]], X=X, y=y))"
      ]
    },
    {
      "cell_type": "markdown",
      "metadata": {
        "id": "O1r_kIReDU3V"
      },
      "source": [
        "### Zadanie 7\n",
        "\n",
        "Wykorzystując uzyskany model regresyjny przepowiedz liczbę włamań na tysiąc mieszkańców dla dzielnic, w których występują średnio kolejno: 10, 20 i 50 pożarów na tysiąc gospodarstw domowych."
      ]
    },
    {
      "cell_type": "code",
      "execution_count": null,
      "metadata": {
        "id": "vpiygu0JDU3V",
        "colab": {
          "base_uri": "https://localhost:8080/"
        },
        "outputId": "8d96002a-ef08-4541-d42a-48418f461967"
      },
      "outputs": [
        {
          "output_type": "execute_result",
          "data": {
            "text/plain": [
              "array([30.12971728, 43.26427733, 82.66795748])"
            ]
          },
          "metadata": {},
          "execution_count": 36
        }
      ],
      "source": [
        "model.predict(np.array([[10],[20],[50]]))"
      ]
    },
    {
      "cell_type": "code",
      "source": [
        "house_df = pd.read_csv(\"housing.csv\", sep=\"\\t\")\n",
        "house_df.head()"
      ],
      "metadata": {
        "colab": {
          "base_uri": "https://localhost:8080/",
          "height": 270
        },
        "id": "AKOspRoASH4V",
        "outputId": "f08620e2-51cf-445b-85a3-06f9dafffbc3"
      },
      "execution_count": null,
      "outputs": [
        {
          "output_type": "execute_result",
          "data": {
            "text/plain": [
              "   MedInc  HouseAge  AveRooms  AveBedrms  Population  AveOccup  Latitude  \\\n",
              "0  8.3252      41.0  6.984127   1.023810       322.0  2.555556     37.88   \n",
              "1  8.3014      21.0  6.238137   0.971880      2401.0  2.109842     37.86   \n",
              "2  7.2574      52.0  8.288136   1.073446       496.0  2.802260     37.85   \n",
              "3  5.6431      52.0  5.817352   1.073059       558.0  2.547945     37.85   \n",
              "4  3.8462      52.0  6.281853   1.081081       565.0  2.181467     37.85   \n",
              "\n",
              "   Longitude  target  \n",
              "0    -122.23   4.526  \n",
              "1    -122.22   3.585  \n",
              "2    -122.24   3.521  \n",
              "3    -122.25   3.413  \n",
              "4    -122.25   3.422  "
            ],
            "text/html": [
              "\n",
              "  <div id=\"df-e3e76eb7-7e51-4446-a671-3fa6276fb740\">\n",
              "    <div class=\"colab-df-container\">\n",
              "      <div>\n",
              "<style scoped>\n",
              "    .dataframe tbody tr th:only-of-type {\n",
              "        vertical-align: middle;\n",
              "    }\n",
              "\n",
              "    .dataframe tbody tr th {\n",
              "        vertical-align: top;\n",
              "    }\n",
              "\n",
              "    .dataframe thead th {\n",
              "        text-align: right;\n",
              "    }\n",
              "</style>\n",
              "<table border=\"1\" class=\"dataframe\">\n",
              "  <thead>\n",
              "    <tr style=\"text-align: right;\">\n",
              "      <th></th>\n",
              "      <th>MedInc</th>\n",
              "      <th>HouseAge</th>\n",
              "      <th>AveRooms</th>\n",
              "      <th>AveBedrms</th>\n",
              "      <th>Population</th>\n",
              "      <th>AveOccup</th>\n",
              "      <th>Latitude</th>\n",
              "      <th>Longitude</th>\n",
              "      <th>target</th>\n",
              "    </tr>\n",
              "  </thead>\n",
              "  <tbody>\n",
              "    <tr>\n",
              "      <th>0</th>\n",
              "      <td>8.3252</td>\n",
              "      <td>41.0</td>\n",
              "      <td>6.984127</td>\n",
              "      <td>1.023810</td>\n",
              "      <td>322.0</td>\n",
              "      <td>2.555556</td>\n",
              "      <td>37.88</td>\n",
              "      <td>-122.23</td>\n",
              "      <td>4.526</td>\n",
              "    </tr>\n",
              "    <tr>\n",
              "      <th>1</th>\n",
              "      <td>8.3014</td>\n",
              "      <td>21.0</td>\n",
              "      <td>6.238137</td>\n",
              "      <td>0.971880</td>\n",
              "      <td>2401.0</td>\n",
              "      <td>2.109842</td>\n",
              "      <td>37.86</td>\n",
              "      <td>-122.22</td>\n",
              "      <td>3.585</td>\n",
              "    </tr>\n",
              "    <tr>\n",
              "      <th>2</th>\n",
              "      <td>7.2574</td>\n",
              "      <td>52.0</td>\n",
              "      <td>8.288136</td>\n",
              "      <td>1.073446</td>\n",
              "      <td>496.0</td>\n",
              "      <td>2.802260</td>\n",
              "      <td>37.85</td>\n",
              "      <td>-122.24</td>\n",
              "      <td>3.521</td>\n",
              "    </tr>\n",
              "    <tr>\n",
              "      <th>3</th>\n",
              "      <td>5.6431</td>\n",
              "      <td>52.0</td>\n",
              "      <td>5.817352</td>\n",
              "      <td>1.073059</td>\n",
              "      <td>558.0</td>\n",
              "      <td>2.547945</td>\n",
              "      <td>37.85</td>\n",
              "      <td>-122.25</td>\n",
              "      <td>3.413</td>\n",
              "    </tr>\n",
              "    <tr>\n",
              "      <th>4</th>\n",
              "      <td>3.8462</td>\n",
              "      <td>52.0</td>\n",
              "      <td>6.281853</td>\n",
              "      <td>1.081081</td>\n",
              "      <td>565.0</td>\n",
              "      <td>2.181467</td>\n",
              "      <td>37.85</td>\n",
              "      <td>-122.25</td>\n",
              "      <td>3.422</td>\n",
              "    </tr>\n",
              "  </tbody>\n",
              "</table>\n",
              "</div>\n",
              "      <button class=\"colab-df-convert\" onclick=\"convertToInteractive('df-e3e76eb7-7e51-4446-a671-3fa6276fb740')\"\n",
              "              title=\"Convert this dataframe to an interactive table.\"\n",
              "              style=\"display:none;\">\n",
              "        \n",
              "  <svg xmlns=\"http://www.w3.org/2000/svg\" height=\"24px\"viewBox=\"0 0 24 24\"\n",
              "       width=\"24px\">\n",
              "    <path d=\"M0 0h24v24H0V0z\" fill=\"none\"/>\n",
              "    <path d=\"M18.56 5.44l.94 2.06.94-2.06 2.06-.94-2.06-.94-.94-2.06-.94 2.06-2.06.94zm-11 1L8.5 8.5l.94-2.06 2.06-.94-2.06-.94L8.5 2.5l-.94 2.06-2.06.94zm10 10l.94 2.06.94-2.06 2.06-.94-2.06-.94-.94-2.06-.94 2.06-2.06.94z\"/><path d=\"M17.41 7.96l-1.37-1.37c-.4-.4-.92-.59-1.43-.59-.52 0-1.04.2-1.43.59L10.3 9.45l-7.72 7.72c-.78.78-.78 2.05 0 2.83L4 21.41c.39.39.9.59 1.41.59.51 0 1.02-.2 1.41-.59l7.78-7.78 2.81-2.81c.8-.78.8-2.07 0-2.86zM5.41 20L4 18.59l7.72-7.72 1.47 1.35L5.41 20z\"/>\n",
              "  </svg>\n",
              "      </button>\n",
              "      \n",
              "  <style>\n",
              "    .colab-df-container {\n",
              "      display:flex;\n",
              "      flex-wrap:wrap;\n",
              "      gap: 12px;\n",
              "    }\n",
              "\n",
              "    .colab-df-convert {\n",
              "      background-color: #E8F0FE;\n",
              "      border: none;\n",
              "      border-radius: 50%;\n",
              "      cursor: pointer;\n",
              "      display: none;\n",
              "      fill: #1967D2;\n",
              "      height: 32px;\n",
              "      padding: 0 0 0 0;\n",
              "      width: 32px;\n",
              "    }\n",
              "\n",
              "    .colab-df-convert:hover {\n",
              "      background-color: #E2EBFA;\n",
              "      box-shadow: 0px 1px 2px rgba(60, 64, 67, 0.3), 0px 1px 3px 1px rgba(60, 64, 67, 0.15);\n",
              "      fill: #174EA6;\n",
              "    }\n",
              "\n",
              "    [theme=dark] .colab-df-convert {\n",
              "      background-color: #3B4455;\n",
              "      fill: #D2E3FC;\n",
              "    }\n",
              "\n",
              "    [theme=dark] .colab-df-convert:hover {\n",
              "      background-color: #434B5C;\n",
              "      box-shadow: 0px 1px 3px 1px rgba(0, 0, 0, 0.15);\n",
              "      filter: drop-shadow(0px 1px 2px rgba(0, 0, 0, 0.3));\n",
              "      fill: #FFFFFF;\n",
              "    }\n",
              "  </style>\n",
              "\n",
              "      <script>\n",
              "        const buttonEl =\n",
              "          document.querySelector('#df-e3e76eb7-7e51-4446-a671-3fa6276fb740 button.colab-df-convert');\n",
              "        buttonEl.style.display =\n",
              "          google.colab.kernel.accessAllowed ? 'block' : 'none';\n",
              "\n",
              "        async function convertToInteractive(key) {\n",
              "          const element = document.querySelector('#df-e3e76eb7-7e51-4446-a671-3fa6276fb740');\n",
              "          const dataTable =\n",
              "            await google.colab.kernel.invokeFunction('convertToInteractive',\n",
              "                                                     [key], {});\n",
              "          if (!dataTable) return;\n",
              "\n",
              "          const docLinkHtml = 'Like what you see? Visit the ' +\n",
              "            '<a target=\"_blank\" href=https://colab.research.google.com/notebooks/data_table.ipynb>data table notebook</a>'\n",
              "            + ' to learn more about interactive tables.';\n",
              "          element.innerHTML = '';\n",
              "          dataTable['output_type'] = 'display_data';\n",
              "          await google.colab.output.renderOutput(dataTable, element);\n",
              "          const docLink = document.createElement('div');\n",
              "          docLink.innerHTML = docLinkHtml;\n",
              "          element.appendChild(docLink);\n",
              "        }\n",
              "      </script>\n",
              "    </div>\n",
              "  </div>\n",
              "  "
            ]
          },
          "metadata": {},
          "execution_count": 41
        }
      ]
    },
    {
      "cell_type": "code",
      "source": [
        "X = house_df.loc[:, house_df.columns != \"target\"]\n",
        "y = house_df[\"target\"]"
      ],
      "metadata": {
        "id": "iq3Y4LJeWMml"
      },
      "execution_count": null,
      "outputs": []
    },
    {
      "cell_type": "code",
      "source": [
        "X2 = sma.add_constant(X)\n",
        "OLS_model = sma.OLS(y, X2)\n",
        "\n",
        "print(OLS_model.fit().summary())"
      ],
      "metadata": {
        "colab": {
          "base_uri": "https://localhost:8080/"
        },
        "id": "1xT3ZQ2-Vf5A",
        "outputId": "38b2d9af-6cc6-453a-dbb2-8ec14d1c3ae9"
      },
      "execution_count": null,
      "outputs": [
        {
          "output_type": "stream",
          "name": "stdout",
          "text": [
            "                            OLS Regression Results                            \n",
            "==============================================================================\n",
            "Dep. Variable:                 target   R-squared:                       0.606\n",
            "Model:                            OLS   Adj. R-squared:                  0.606\n",
            "Method:                 Least Squares   F-statistic:                     3970.\n",
            "Date:                Wed, 05 Apr 2023   Prob (F-statistic):               0.00\n",
            "Time:                        16:56:13   Log-Likelihood:                -22624.\n",
            "No. Observations:               20640   AIC:                         4.527e+04\n",
            "Df Residuals:                   20631   BIC:                         4.534e+04\n",
            "Df Model:                           8                                         \n",
            "Covariance Type:            nonrobust                                         \n",
            "==============================================================================\n",
            "                 coef    std err          t      P>|t|      [0.025      0.975]\n",
            "------------------------------------------------------------------------------\n",
            "const        -36.9419      0.659    -56.067      0.000     -38.233     -35.650\n",
            "MedInc         0.4367      0.004    104.054      0.000       0.428       0.445\n",
            "HouseAge       0.0094      0.000     21.143      0.000       0.009       0.010\n",
            "AveRooms      -0.1073      0.006    -18.235      0.000      -0.119      -0.096\n",
            "AveBedrms      0.6451      0.028     22.928      0.000       0.590       0.700\n",
            "Population -3.976e-06   4.75e-06     -0.837      0.402   -1.33e-05    5.33e-06\n",
            "AveOccup      -0.0038      0.000     -7.769      0.000      -0.005      -0.003\n",
            "Latitude      -0.4213      0.007    -58.541      0.000      -0.435      -0.407\n",
            "Longitude     -0.4345      0.008    -57.682      0.000      -0.449      -0.420\n",
            "==============================================================================\n",
            "Omnibus:                     4393.650   Durbin-Watson:                   0.885\n",
            "Prob(Omnibus):                  0.000   Jarque-Bera (JB):            14087.596\n",
            "Skew:                           1.082   Prob(JB):                         0.00\n",
            "Kurtosis:                       6.420   Cond. No.                     2.38e+05\n",
            "==============================================================================\n",
            "\n",
            "Notes:\n",
            "[1] Standard Errors assume that the covariance matrix of the errors is correctly specified.\n",
            "[2] The condition number is large, 2.38e+05. This might indicate that there are\n",
            "strong multicollinearity or other numerical problems.\n"
          ]
        }
      ]
    },
    {
      "cell_type": "code",
      "source": [
        "X = house_df.loc[:, house_df.columns != \"target\"].values\n",
        "y = house_df[\"target\"].values"
      ],
      "metadata": {
        "id": "MYuUhg9sTd62"
      },
      "execution_count": null,
      "outputs": []
    },
    {
      "cell_type": "code",
      "source": [
        "house_model = LinearRegression()\n",
        "house_model.fit(X,y)"
      ],
      "metadata": {
        "colab": {
          "base_uri": "https://localhost:8080/",
          "height": 74
        },
        "id": "W0bXygD2TUOV",
        "outputId": "75c191eb-4ec9-4b09-f8d4-5e9ec0b9562b"
      },
      "execution_count": null,
      "outputs": [
        {
          "output_type": "execute_result",
          "data": {
            "text/plain": [
              "LinearRegression()"
            ],
            "text/html": [
              "<style>#sk-container-id-3 {color: black;background-color: white;}#sk-container-id-3 pre{padding: 0;}#sk-container-id-3 div.sk-toggleable {background-color: white;}#sk-container-id-3 label.sk-toggleable__label {cursor: pointer;display: block;width: 100%;margin-bottom: 0;padding: 0.3em;box-sizing: border-box;text-align: center;}#sk-container-id-3 label.sk-toggleable__label-arrow:before {content: \"▸\";float: left;margin-right: 0.25em;color: #696969;}#sk-container-id-3 label.sk-toggleable__label-arrow:hover:before {color: black;}#sk-container-id-3 div.sk-estimator:hover label.sk-toggleable__label-arrow:before {color: black;}#sk-container-id-3 div.sk-toggleable__content {max-height: 0;max-width: 0;overflow: hidden;text-align: left;background-color: #f0f8ff;}#sk-container-id-3 div.sk-toggleable__content pre {margin: 0.2em;color: black;border-radius: 0.25em;background-color: #f0f8ff;}#sk-container-id-3 input.sk-toggleable__control:checked~div.sk-toggleable__content {max-height: 200px;max-width: 100%;overflow: auto;}#sk-container-id-3 input.sk-toggleable__control:checked~label.sk-toggleable__label-arrow:before {content: \"▾\";}#sk-container-id-3 div.sk-estimator input.sk-toggleable__control:checked~label.sk-toggleable__label {background-color: #d4ebff;}#sk-container-id-3 div.sk-label input.sk-toggleable__control:checked~label.sk-toggleable__label {background-color: #d4ebff;}#sk-container-id-3 input.sk-hidden--visually {border: 0;clip: rect(1px 1px 1px 1px);clip: rect(1px, 1px, 1px, 1px);height: 1px;margin: -1px;overflow: hidden;padding: 0;position: absolute;width: 1px;}#sk-container-id-3 div.sk-estimator {font-family: monospace;background-color: #f0f8ff;border: 1px dotted black;border-radius: 0.25em;box-sizing: border-box;margin-bottom: 0.5em;}#sk-container-id-3 div.sk-estimator:hover {background-color: #d4ebff;}#sk-container-id-3 div.sk-parallel-item::after {content: \"\";width: 100%;border-bottom: 1px solid gray;flex-grow: 1;}#sk-container-id-3 div.sk-label:hover label.sk-toggleable__label {background-color: #d4ebff;}#sk-container-id-3 div.sk-serial::before {content: \"\";position: absolute;border-left: 1px solid gray;box-sizing: border-box;top: 0;bottom: 0;left: 50%;z-index: 0;}#sk-container-id-3 div.sk-serial {display: flex;flex-direction: column;align-items: center;background-color: white;padding-right: 0.2em;padding-left: 0.2em;position: relative;}#sk-container-id-3 div.sk-item {position: relative;z-index: 1;}#sk-container-id-3 div.sk-parallel {display: flex;align-items: stretch;justify-content: center;background-color: white;position: relative;}#sk-container-id-3 div.sk-item::before, #sk-container-id-3 div.sk-parallel-item::before {content: \"\";position: absolute;border-left: 1px solid gray;box-sizing: border-box;top: 0;bottom: 0;left: 50%;z-index: -1;}#sk-container-id-3 div.sk-parallel-item {display: flex;flex-direction: column;z-index: 1;position: relative;background-color: white;}#sk-container-id-3 div.sk-parallel-item:first-child::after {align-self: flex-end;width: 50%;}#sk-container-id-3 div.sk-parallel-item:last-child::after {align-self: flex-start;width: 50%;}#sk-container-id-3 div.sk-parallel-item:only-child::after {width: 0;}#sk-container-id-3 div.sk-dashed-wrapped {border: 1px dashed gray;margin: 0 0.4em 0.5em 0.4em;box-sizing: border-box;padding-bottom: 0.4em;background-color: white;}#sk-container-id-3 div.sk-label label {font-family: monospace;font-weight: bold;display: inline-block;line-height: 1.2em;}#sk-container-id-3 div.sk-label-container {text-align: center;}#sk-container-id-3 div.sk-container {/* jupyter's `normalize.less` sets `[hidden] { display: none; }` but bootstrap.min.css set `[hidden] { display: none !important; }` so we also need the `!important` here to be able to override the default hidden behavior on the sphinx rendered scikit-learn.org. See: https://github.com/scikit-learn/scikit-learn/issues/21755 */display: inline-block !important;position: relative;}#sk-container-id-3 div.sk-text-repr-fallback {display: none;}</style><div id=\"sk-container-id-3\" class=\"sk-top-container\"><div class=\"sk-text-repr-fallback\"><pre>LinearRegression()</pre><b>In a Jupyter environment, please rerun this cell to show the HTML representation or trust the notebook. <br />On GitHub, the HTML representation is unable to render, please try loading this page with nbviewer.org.</b></div><div class=\"sk-container\" hidden><div class=\"sk-item\"><div class=\"sk-estimator sk-toggleable\"><input class=\"sk-toggleable__control sk-hidden--visually\" id=\"sk-estimator-id-3\" type=\"checkbox\" checked><label for=\"sk-estimator-id-3\" class=\"sk-toggleable__label sk-toggleable__label-arrow\">LinearRegression</label><div class=\"sk-toggleable__content\"><pre>LinearRegression()</pre></div></div></div></div></div>"
            ]
          },
          "metadata": {},
          "execution_count": 60
        }
      ]
    },
    {
      "cell_type": "code",
      "source": [
        "predict_data = np.array([[7.4564, 25, 8.76, 3.21, 150, 1.56, 32.45, -56.23]])\n",
        "house_model.predict(predict_data)"
      ],
      "metadata": {
        "colab": {
          "base_uri": "https://localhost:8080/"
        },
        "id": "8pfE-uJAVFjt",
        "outputId": "e8643810-5085-46c9-9621-cf39bb32842a"
      },
      "execution_count": null,
      "outputs": [
        {
          "output_type": "execute_result",
          "data": {
            "text/plain": [
              "array([-21.56479268])"
            ]
          },
          "metadata": {},
          "execution_count": 61
        }
      ]
    },
    {
      "cell_type": "markdown",
      "metadata": {
        "id": "Dg-4a6OxDU3V"
      },
      "source": [
        "### Zadanie 8\n",
        "\n",
        "Wytrenuj model regresyjny drzewa decyzyjnego i dokonaj predykcji dla tych samych wartości pożarów na tysiąc gospodarstw domowych co wyżej. Porównaj otrzymane wyniki."
      ]
    },
    {
      "cell_type": "code",
      "source": [
        "from sklearn.tree import DecisionTreeRegressor"
      ],
      "metadata": {
        "id": "eJHCgLIt_ECl"
      },
      "execution_count": null,
      "outputs": []
    },
    {
      "cell_type": "code",
      "execution_count": null,
      "metadata": {
        "id": "V0QwoRzuDU3V",
        "colab": {
          "base_uri": "https://localhost:8080/",
          "height": 74
        },
        "outputId": "0b485e18-cf5e-456a-99fd-211796d804b2"
      },
      "outputs": [
        {
          "output_type": "execute_result",
          "data": {
            "text/plain": [
              "DecisionTreeRegressor()"
            ],
            "text/html": [
              "<style>#sk-container-id-1 {color: black;background-color: white;}#sk-container-id-1 pre{padding: 0;}#sk-container-id-1 div.sk-toggleable {background-color: white;}#sk-container-id-1 label.sk-toggleable__label {cursor: pointer;display: block;width: 100%;margin-bottom: 0;padding: 0.3em;box-sizing: border-box;text-align: center;}#sk-container-id-1 label.sk-toggleable__label-arrow:before {content: \"▸\";float: left;margin-right: 0.25em;color: #696969;}#sk-container-id-1 label.sk-toggleable__label-arrow:hover:before {color: black;}#sk-container-id-1 div.sk-estimator:hover label.sk-toggleable__label-arrow:before {color: black;}#sk-container-id-1 div.sk-toggleable__content {max-height: 0;max-width: 0;overflow: hidden;text-align: left;background-color: #f0f8ff;}#sk-container-id-1 div.sk-toggleable__content pre {margin: 0.2em;color: black;border-radius: 0.25em;background-color: #f0f8ff;}#sk-container-id-1 input.sk-toggleable__control:checked~div.sk-toggleable__content {max-height: 200px;max-width: 100%;overflow: auto;}#sk-container-id-1 input.sk-toggleable__control:checked~label.sk-toggleable__label-arrow:before {content: \"▾\";}#sk-container-id-1 div.sk-estimator input.sk-toggleable__control:checked~label.sk-toggleable__label {background-color: #d4ebff;}#sk-container-id-1 div.sk-label input.sk-toggleable__control:checked~label.sk-toggleable__label {background-color: #d4ebff;}#sk-container-id-1 input.sk-hidden--visually {border: 0;clip: rect(1px 1px 1px 1px);clip: rect(1px, 1px, 1px, 1px);height: 1px;margin: -1px;overflow: hidden;padding: 0;position: absolute;width: 1px;}#sk-container-id-1 div.sk-estimator {font-family: monospace;background-color: #f0f8ff;border: 1px dotted black;border-radius: 0.25em;box-sizing: border-box;margin-bottom: 0.5em;}#sk-container-id-1 div.sk-estimator:hover {background-color: #d4ebff;}#sk-container-id-1 div.sk-parallel-item::after {content: \"\";width: 100%;border-bottom: 1px solid gray;flex-grow: 1;}#sk-container-id-1 div.sk-label:hover label.sk-toggleable__label {background-color: #d4ebff;}#sk-container-id-1 div.sk-serial::before {content: \"\";position: absolute;border-left: 1px solid gray;box-sizing: border-box;top: 0;bottom: 0;left: 50%;z-index: 0;}#sk-container-id-1 div.sk-serial {display: flex;flex-direction: column;align-items: center;background-color: white;padding-right: 0.2em;padding-left: 0.2em;position: relative;}#sk-container-id-1 div.sk-item {position: relative;z-index: 1;}#sk-container-id-1 div.sk-parallel {display: flex;align-items: stretch;justify-content: center;background-color: white;position: relative;}#sk-container-id-1 div.sk-item::before, #sk-container-id-1 div.sk-parallel-item::before {content: \"\";position: absolute;border-left: 1px solid gray;box-sizing: border-box;top: 0;bottom: 0;left: 50%;z-index: -1;}#sk-container-id-1 div.sk-parallel-item {display: flex;flex-direction: column;z-index: 1;position: relative;background-color: white;}#sk-container-id-1 div.sk-parallel-item:first-child::after {align-self: flex-end;width: 50%;}#sk-container-id-1 div.sk-parallel-item:last-child::after {align-self: flex-start;width: 50%;}#sk-container-id-1 div.sk-parallel-item:only-child::after {width: 0;}#sk-container-id-1 div.sk-dashed-wrapped {border: 1px dashed gray;margin: 0 0.4em 0.5em 0.4em;box-sizing: border-box;padding-bottom: 0.4em;background-color: white;}#sk-container-id-1 div.sk-label label {font-family: monospace;font-weight: bold;display: inline-block;line-height: 1.2em;}#sk-container-id-1 div.sk-label-container {text-align: center;}#sk-container-id-1 div.sk-container {/* jupyter's `normalize.less` sets `[hidden] { display: none; }` but bootstrap.min.css set `[hidden] { display: none !important; }` so we also need the `!important` here to be able to override the default hidden behavior on the sphinx rendered scikit-learn.org. See: https://github.com/scikit-learn/scikit-learn/issues/21755 */display: inline-block !important;position: relative;}#sk-container-id-1 div.sk-text-repr-fallback {display: none;}</style><div id=\"sk-container-id-1\" class=\"sk-top-container\"><div class=\"sk-text-repr-fallback\"><pre>DecisionTreeRegressor()</pre><b>In a Jupyter environment, please rerun this cell to show the HTML representation or trust the notebook. <br />On GitHub, the HTML representation is unable to render, please try loading this page with nbviewer.org.</b></div><div class=\"sk-container\" hidden><div class=\"sk-item\"><div class=\"sk-estimator sk-toggleable\"><input class=\"sk-toggleable__control sk-hidden--visually\" id=\"sk-estimator-id-1\" type=\"checkbox\" checked><label for=\"sk-estimator-id-1\" class=\"sk-toggleable__label sk-toggleable__label-arrow\">DecisionTreeRegressor</label><div class=\"sk-toggleable__content\"><pre>DecisionTreeRegressor()</pre></div></div></div></div></div>"
            ]
          },
          "metadata": {},
          "execution_count": 5
        }
      ],
      "source": [
        "model = DecisionTreeRegressor()\n",
        "model.fit(X, y)"
      ]
    },
    {
      "cell_type": "code",
      "source": [
        "predict_data = np.array([[10],[20],[50]])\n",
        "model.predict(predict_data)"
      ],
      "metadata": {
        "colab": {
          "base_uri": "https://localhost:8080/"
        },
        "id": "OYtM_vheBaTa",
        "outputId": "df1819f3-3ba0-435e-cb12-cac1fbfdba7a"
      },
      "execution_count": null,
      "outputs": [
        {
          "output_type": "execute_result",
          "data": {
            "text/plain": [
              "array([ 44.,  22., 147.])"
            ]
          },
          "metadata": {},
          "execution_count": 6
        }
      ]
    },
    {
      "cell_type": "markdown",
      "metadata": {
        "id": "p3J3F2bMDU3W"
      },
      "source": [
        "### Zadanie 9\n",
        "\n",
        "Potrafimy wytrenować model i dokonać predykcji dla przykładowych danych. Ale skąd mamy wiedzieć, na ile jest on dobry? Zastanów się, w jaki sposób moglibyśmy zbadać skuteczność takiego modelu - jak sprawdzić, czy i jak często ma rację, albo się myli?"
      ]
    },
    {
      "cell_type": "markdown",
      "source": [
        "Współczynnik R2 - Możemy skorzystać ze współczynnika determinacji, który jest opisową miarą siły liniowego związku między zmiennymi, czyli miarą dopasowania linii regresji do danych.\n",
        "\n",
        "MAE (Mean Absolute Error) mierzy średnią różnicę pomiędzy wartościami przewidzianymi a rzeczywistymi. \n",
        "\n",
        "$$\\begin{array}{rll} MAE &=& \\dfrac{1}{n} \\displaystyle\\sum_{i=1}^{n} \\left|y_i  - \\hat{y_i}\\right|\n",
        "\\end{array} $$\n",
        "\n",
        "MSE (Mean Squared Error) podobnie jak MAE będzie skupiała się bardziej na dużych błędach.\n",
        "\n",
        "$$\\begin{array}{rll} MSE &=& \\dfrac{1}{n} \\displaystyle\\sum_{i=1}^{n} {\\left(y_i  - \\hat{y_i}\\right)}^2\n",
        "\\end{array} $$\n",
        "\n",
        "RMSE (Root Mean Squared Error) to pierwiastek kwadratowy z MSE.\n",
        "\n",
        "$$\\begin{array}{rll} RMSE &=& \\sqrt{\\dfrac{1}{n} \\displaystyle\\sum_{i=1}^{n} {\\left(y_i  - \\hat{y_i}\\right)}^2}\n",
        "\\end{array} $$"
      ],
      "metadata": {
        "id": "tozv30k1CERa"
      }
    }
  ],
  "metadata": {
    "kernelspec": {
      "display_name": "Python 3",
      "language": "python",
      "name": "python3"
    },
    "language_info": {
      "codemirror_mode": {
        "name": "ipython",
        "version": 3
      },
      "file_extension": ".py",
      "mimetype": "text/x-python",
      "name": "python",
      "nbconvert_exporter": "python",
      "pygments_lexer": "ipython3",
      "version": "3.6.9"
    },
    "colab": {
      "provenance": []
    },
    "widgets": {
      "application/vnd.jupyter.widget-state+json": {
        "3a6104379cc34f8abca4872470b140c6": {
          "model_module": "@jupyter-widgets/controls",
          "model_name": "VBoxModel",
          "model_module_version": "1.5.0",
          "state": {
            "_dom_classes": [],
            "_model_module": "@jupyter-widgets/controls",
            "_model_module_version": "1.5.0",
            "_model_name": "VBoxModel",
            "_view_count": null,
            "_view_module": "@jupyter-widgets/controls",
            "_view_module_version": "1.5.0",
            "_view_name": "VBoxView",
            "box_style": "",
            "children": [
              "IPY_MODEL_b0ca92f8a9434e49a28ffed78fe374b2",
              "IPY_MODEL_4d5f16e675dc4271b8266ea63d0ce448",
              "IPY_MODEL_0d12f98fda45465182f9ac72a49c4468"
            ],
            "layout": "IPY_MODEL_d64099fd81a242cfb9e98d7d8c1e6901"
          }
        },
        "b0ca92f8a9434e49a28ffed78fe374b2": {
          "model_module": "@jupyter-widgets/controls",
          "model_name": "FloatSliderModel",
          "model_module_version": "1.5.0",
          "state": {
            "_dom_classes": [],
            "_model_module": "@jupyter-widgets/controls",
            "_model_module_version": "1.5.0",
            "_model_name": "FloatSliderModel",
            "_view_count": null,
            "_view_module": "@jupyter-widgets/controls",
            "_view_module_version": "1.5.0",
            "_view_name": "FloatSliderView",
            "continuous_update": true,
            "description": "theta0",
            "description_tooltip": null,
            "disabled": false,
            "layout": "IPY_MODEL_3f689e143b2640f29a9664f33c479f70",
            "max": 20,
            "min": -20,
            "orientation": "horizontal",
            "readout": true,
            "readout_format": ".2f",
            "step": 0.1,
            "style": "IPY_MODEL_be1782d73bdd4cb8839a36c41580f5b6",
            "value": 17
          }
        },
        "4d5f16e675dc4271b8266ea63d0ce448": {
          "model_module": "@jupyter-widgets/controls",
          "model_name": "FloatSliderModel",
          "model_module_version": "1.5.0",
          "state": {
            "_dom_classes": [],
            "_model_module": "@jupyter-widgets/controls",
            "_model_module_version": "1.5.0",
            "_model_name": "FloatSliderModel",
            "_view_count": null,
            "_view_module": "@jupyter-widgets/controls",
            "_view_module_version": "1.5.0",
            "_view_name": "FloatSliderView",
            "continuous_update": true,
            "description": "theta1",
            "description_tooltip": null,
            "disabled": false,
            "layout": "IPY_MODEL_2681c17b66554b81b505547be039181e",
            "max": 20,
            "min": -20,
            "orientation": "horizontal",
            "readout": true,
            "readout_format": ".2f",
            "step": 0.1,
            "style": "IPY_MODEL_5772f0f29e52456fbea180d479c80aac",
            "value": 1.3
          }
        },
        "0d12f98fda45465182f9ac72a49c4468": {
          "model_module": "@jupyter-widgets/controls",
          "model_name": "ButtonModel",
          "model_module_version": "1.5.0",
          "state": {
            "_dom_classes": [],
            "_model_module": "@jupyter-widgets/controls",
            "_model_module_version": "1.5.0",
            "_model_name": "ButtonModel",
            "_view_count": null,
            "_view_module": "@jupyter-widgets/controls",
            "_view_module_version": "1.5.0",
            "_view_name": "ButtonView",
            "button_style": "",
            "description": "Show",
            "disabled": false,
            "icon": "",
            "layout": "IPY_MODEL_f8fb28a09013407390869ad05170a06b",
            "style": "IPY_MODEL_b0e5a12941eb4ebbbf0dd9ccdb6f3835",
            "tooltip": ""
          }
        },
        "d64099fd81a242cfb9e98d7d8c1e6901": {
          "model_module": "@jupyter-widgets/base",
          "model_name": "LayoutModel",
          "model_module_version": "1.2.0",
          "state": {
            "_model_module": "@jupyter-widgets/base",
            "_model_module_version": "1.2.0",
            "_model_name": "LayoutModel",
            "_view_count": null,
            "_view_module": "@jupyter-widgets/base",
            "_view_module_version": "1.2.0",
            "_view_name": "LayoutView",
            "align_content": null,
            "align_items": null,
            "align_self": null,
            "border": null,
            "bottom": null,
            "display": null,
            "flex": null,
            "flex_flow": null,
            "grid_area": null,
            "grid_auto_columns": null,
            "grid_auto_flow": null,
            "grid_auto_rows": null,
            "grid_column": null,
            "grid_gap": null,
            "grid_row": null,
            "grid_template_areas": null,
            "grid_template_columns": null,
            "grid_template_rows": null,
            "height": null,
            "justify_content": null,
            "justify_items": null,
            "left": null,
            "margin": null,
            "max_height": null,
            "max_width": null,
            "min_height": null,
            "min_width": null,
            "object_fit": null,
            "object_position": null,
            "order": null,
            "overflow": null,
            "overflow_x": null,
            "overflow_y": null,
            "padding": null,
            "right": null,
            "top": null,
            "visibility": null,
            "width": null
          }
        },
        "3f689e143b2640f29a9664f33c479f70": {
          "model_module": "@jupyter-widgets/base",
          "model_name": "LayoutModel",
          "model_module_version": "1.2.0",
          "state": {
            "_model_module": "@jupyter-widgets/base",
            "_model_module_version": "1.2.0",
            "_model_name": "LayoutModel",
            "_view_count": null,
            "_view_module": "@jupyter-widgets/base",
            "_view_module_version": "1.2.0",
            "_view_name": "LayoutView",
            "align_content": null,
            "align_items": null,
            "align_self": null,
            "border": null,
            "bottom": null,
            "display": null,
            "flex": null,
            "flex_flow": null,
            "grid_area": null,
            "grid_auto_columns": null,
            "grid_auto_flow": null,
            "grid_auto_rows": null,
            "grid_column": null,
            "grid_gap": null,
            "grid_row": null,
            "grid_template_areas": null,
            "grid_template_columns": null,
            "grid_template_rows": null,
            "height": null,
            "justify_content": null,
            "justify_items": null,
            "left": null,
            "margin": null,
            "max_height": null,
            "max_width": null,
            "min_height": null,
            "min_width": null,
            "object_fit": null,
            "object_position": null,
            "order": null,
            "overflow": null,
            "overflow_x": null,
            "overflow_y": null,
            "padding": null,
            "right": null,
            "top": null,
            "visibility": null,
            "width": "auto"
          }
        },
        "be1782d73bdd4cb8839a36c41580f5b6": {
          "model_module": "@jupyter-widgets/controls",
          "model_name": "SliderStyleModel",
          "model_module_version": "1.5.0",
          "state": {
            "_model_module": "@jupyter-widgets/controls",
            "_model_module_version": "1.5.0",
            "_model_name": "SliderStyleModel",
            "_view_count": null,
            "_view_module": "@jupyter-widgets/base",
            "_view_module_version": "1.2.0",
            "_view_name": "StyleView",
            "description_width": "",
            "handle_color": null
          }
        },
        "2681c17b66554b81b505547be039181e": {
          "model_module": "@jupyter-widgets/base",
          "model_name": "LayoutModel",
          "model_module_version": "1.2.0",
          "state": {
            "_model_module": "@jupyter-widgets/base",
            "_model_module_version": "1.2.0",
            "_model_name": "LayoutModel",
            "_view_count": null,
            "_view_module": "@jupyter-widgets/base",
            "_view_module_version": "1.2.0",
            "_view_name": "LayoutView",
            "align_content": null,
            "align_items": null,
            "align_self": null,
            "border": null,
            "bottom": null,
            "display": null,
            "flex": null,
            "flex_flow": null,
            "grid_area": null,
            "grid_auto_columns": null,
            "grid_auto_flow": null,
            "grid_auto_rows": null,
            "grid_column": null,
            "grid_gap": null,
            "grid_row": null,
            "grid_template_areas": null,
            "grid_template_columns": null,
            "grid_template_rows": null,
            "height": null,
            "justify_content": null,
            "justify_items": null,
            "left": null,
            "margin": null,
            "max_height": null,
            "max_width": null,
            "min_height": null,
            "min_width": null,
            "object_fit": null,
            "object_position": null,
            "order": null,
            "overflow": null,
            "overflow_x": null,
            "overflow_y": null,
            "padding": null,
            "right": null,
            "top": null,
            "visibility": null,
            "width": "auto"
          }
        },
        "5772f0f29e52456fbea180d479c80aac": {
          "model_module": "@jupyter-widgets/controls",
          "model_name": "SliderStyleModel",
          "model_module_version": "1.5.0",
          "state": {
            "_model_module": "@jupyter-widgets/controls",
            "_model_module_version": "1.5.0",
            "_model_name": "SliderStyleModel",
            "_view_count": null,
            "_view_module": "@jupyter-widgets/base",
            "_view_module_version": "1.2.0",
            "_view_name": "StyleView",
            "description_width": "",
            "handle_color": null
          }
        },
        "f8fb28a09013407390869ad05170a06b": {
          "model_module": "@jupyter-widgets/base",
          "model_name": "LayoutModel",
          "model_module_version": "1.2.0",
          "state": {
            "_model_module": "@jupyter-widgets/base",
            "_model_module_version": "1.2.0",
            "_model_name": "LayoutModel",
            "_view_count": null,
            "_view_module": "@jupyter-widgets/base",
            "_view_module_version": "1.2.0",
            "_view_name": "LayoutView",
            "align_content": null,
            "align_items": null,
            "align_self": null,
            "border": null,
            "bottom": null,
            "display": null,
            "flex": null,
            "flex_flow": null,
            "grid_area": null,
            "grid_auto_columns": null,
            "grid_auto_flow": null,
            "grid_auto_rows": null,
            "grid_column": null,
            "grid_gap": null,
            "grid_row": null,
            "grid_template_areas": null,
            "grid_template_columns": null,
            "grid_template_rows": null,
            "height": null,
            "justify_content": null,
            "justify_items": null,
            "left": null,
            "margin": null,
            "max_height": null,
            "max_width": null,
            "min_height": null,
            "min_width": null,
            "object_fit": null,
            "object_position": null,
            "order": null,
            "overflow": null,
            "overflow_x": null,
            "overflow_y": null,
            "padding": null,
            "right": null,
            "top": null,
            "visibility": null,
            "width": null
          }
        },
        "b0e5a12941eb4ebbbf0dd9ccdb6f3835": {
          "model_module": "@jupyter-widgets/controls",
          "model_name": "ButtonStyleModel",
          "model_module_version": "1.5.0",
          "state": {
            "_model_module": "@jupyter-widgets/controls",
            "_model_module_version": "1.5.0",
            "_model_name": "ButtonStyleModel",
            "_view_count": null,
            "_view_module": "@jupyter-widgets/base",
            "_view_module_version": "1.2.0",
            "_view_name": "StyleView",
            "button_color": null,
            "font_weight": ""
          }
        },
        "82e126e2c71e42c9b1090c0eba55ad5a": {
          "model_module": "@jupyter-widgets/output",
          "model_name": "OutputModel",
          "model_module_version": "1.0.0",
          "state": {
            "_dom_classes": [],
            "_model_module": "@jupyter-widgets/output",
            "_model_module_version": "1.0.0",
            "_model_name": "OutputModel",
            "_view_count": null,
            "_view_module": "@jupyter-widgets/output",
            "_view_module_version": "1.0.0",
            "_view_name": "OutputView",
            "layout": "IPY_MODEL_c7d63f4b76e849eeb3a65b4a42259338",
            "msg_id": "",
            "outputs": [
              {
                "output_type": "display_data",
                "data": {
                  "text/plain": "<Figure size 2000x1000 with 1 Axes>",
                  "image/png": "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\n"
                },
                "metadata": {}
              },
              {
                "output_type": "display_data",
                "data": {
                  "text/plain": "<IPython.core.display.Math object>",
                  "text/latex": "$\\displaystyle \\Large J(\\theta) = 180.4321$"
                },
                "metadata": {}
              }
            ]
          }
        },
        "c7d63f4b76e849eeb3a65b4a42259338": {
          "model_module": "@jupyter-widgets/base",
          "model_name": "LayoutModel",
          "model_module_version": "1.2.0",
          "state": {
            "_model_module": "@jupyter-widgets/base",
            "_model_module_version": "1.2.0",
            "_model_name": "LayoutModel",
            "_view_count": null,
            "_view_module": "@jupyter-widgets/base",
            "_view_module_version": "1.2.0",
            "_view_name": "LayoutView",
            "align_content": null,
            "align_items": null,
            "align_self": null,
            "border": null,
            "bottom": null,
            "display": null,
            "flex": null,
            "flex_flow": null,
            "grid_area": null,
            "grid_auto_columns": null,
            "grid_auto_flow": null,
            "grid_auto_rows": null,
            "grid_column": null,
            "grid_gap": null,
            "grid_row": null,
            "grid_template_areas": null,
            "grid_template_columns": null,
            "grid_template_rows": null,
            "height": null,
            "justify_content": null,
            "justify_items": null,
            "left": null,
            "margin": null,
            "max_height": null,
            "max_width": null,
            "min_height": null,
            "min_width": null,
            "object_fit": null,
            "object_position": null,
            "order": null,
            "overflow": null,
            "overflow_x": null,
            "overflow_y": null,
            "padding": null,
            "right": null,
            "top": null,
            "visibility": null,
            "width": null
          }
        }
      }
    }
  },
  "nbformat": 4,
  "nbformat_minor": 0
}