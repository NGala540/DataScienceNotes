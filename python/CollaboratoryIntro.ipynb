{
  "nbformat": 4,
  "nbformat_minor": 0,
  "metadata": {
    "colab": {
      "private_outputs": true,
      "provenance": []
    },
    "kernelspec": {
      "name": "python3",
      "display_name": "Python 3"
    },
    "language_info": {
      "name": "python"
    },
    "gpuClass": "standard"
  },
  "cells": [
    {
      "cell_type": "markdown",
      "source": [
        "**Wprowadzenie do Google Colaba**\n",
        "\n",
        "_Tworzenie nowego notatnika_\n",
        "\n",
        "Jedna podloga lub jedna gwiazdka to kursywa, dwie podlogi lub dwie gwiazdki to pogrubienie w Markdownie"
      ],
      "metadata": {
        "id": "hgfae9HdQxZ0"
      }
    },
    {
      "cell_type": "code",
      "execution_count": null,
      "metadata": {
        "id": "_nqBD_6bPwbe"
      },
      "outputs": [],
      "source": [
        "a = 9\n",
        "b = 10\n",
        "a, b"
      ]
    },
    {
      "cell_type": "code",
      "source": [
        "a + b"
      ],
      "metadata": {
        "id": "QqUtmdIZRY72"
      },
      "execution_count": null,
      "outputs": []
    },
    {
      "cell_type": "code",
      "source": [
        "from operator import add, sub"
      ],
      "metadata": {
        "id": "E8XBel5IReje"
      },
      "execution_count": null,
      "outputs": []
    },
    {
      "cell_type": "code",
      "source": [
        "add(a, b)  # add is the same as +"
      ],
      "metadata": {
        "id": "1lpw_8PbRjp4"
      },
      "execution_count": null,
      "outputs": []
    },
    {
      "cell_type": "code",
      "source": [
        "sub(a, b)  # sub is the same as -"
      ],
      "metadata": {
        "id": "4E0f0wuwRp7m"
      },
      "execution_count": null,
      "outputs": []
    },
    {
      "cell_type": "code",
      "source": [
        "add(a, b)  # add is the same as +\n",
        "sub(a, b)  # sub is the same as -"
      ],
      "metadata": {
        "id": "QnKDo2gASP_c"
      },
      "execution_count": null,
      "outputs": []
    },
    {
      "cell_type": "code",
      "source": [
        "def add_two_numbers(a, b):\n",
        "  return a + b"
      ],
      "metadata": {
        "id": "A94fSn27R2HL"
      },
      "execution_count": null,
      "outputs": []
    },
    {
      "cell_type": "code",
      "source": [
        "add_two_numbers(a, b)"
      ],
      "metadata": {
        "id": "QxgPlcLeSAEq"
      },
      "execution_count": null,
      "outputs": []
    },
    {
      "cell_type": "code",
      "source": [
        "max_range = 56 #@param {type:\"slider\", min:0, max:100, step:1}\n",
        "div = \"2\" #@param [\"2\", \"3\", \"4\", \"5\"]\n",
        "mul = 100 #@param {type:\"integer\"}"
      ],
      "metadata": {
        "id": "0eIOOAuBSCAZ"
      },
      "execution_count": null,
      "outputs": []
    },
    {
      "cell_type": "code",
      "source": [
        "def func(x, div, mul):\n",
        "  \"\"\"\n",
        "  Funkcja przyjmujaca argument, ktorego wartosc jest zmieniana przez uzytkownika\n",
        "  z uzyciem formularza. \n",
        "  Dodanie parzystych liczb z przedzialu od 0 do max_range i zsumowanie ich\n",
        "  za pomoca sumowania listy.\n",
        "  \"\"\"\n",
        "  sample_list = []\n",
        "  for i in range(0, x):\n",
        "    if i % int(div) == 0:\n",
        "      sample_list.append(i)\n",
        "  return sum(sample_list) * mul"
      ],
      "metadata": {
        "id": "h1yeLURnTawy"
      },
      "execution_count": null,
      "outputs": []
    },
    {
      "cell_type": "code",
      "source": [
        "def func_2(x, div, mul):\n",
        "  \"\"\"\n",
        "  Funkcja przyjmujaca argument, ktorego wartosc jest zmieniana przez uzytkownika\n",
        "  z uzyciem formularza. \n",
        "  Dodanie parzystych liczb z przedzialu od 0 do max_range i zsumowanie ich\n",
        "  za pomoca sumowania listy.\n",
        "  \"\"\"\n",
        "  sample_list = []\n",
        "  for i in range(0, x):\n",
        "    for j in range(0, x):\n",
        "      if i % int(div) == 0 and j % int(div):\n",
        "        sample_list.append(i)\n",
        "  return sum(sample_list) * mul"
      ],
      "metadata": {
        "id": "0aiMdagTXnib"
      },
      "execution_count": null,
      "outputs": []
    },
    {
      "cell_type": "code",
      "source": [
        "%%timeit\n",
        "func_2(max_range, div, mul)"
      ],
      "metadata": {
        "id": "VfCUp7o2VyYu"
      },
      "execution_count": null,
      "outputs": []
    },
    {
      "cell_type": "markdown",
      "source": [
        "## Zadania utrwalajace"
      ],
      "metadata": {
        "id": "1TEUFJyDdlws"
      }
    },
    {
      "cell_type": "code",
      "source": [
        "# Task 1: For a given sentence, return the average word length. \n",
        "sentence1 = \"Hi all, my name is Tom... I am originally from Australia.\"\n",
        "sentence2 = \"I need to work very hard to learn more about algorithms in Python!\""
      ],
      "metadata": {
        "id": "HC9tDFPGWOlD"
      },
      "execution_count": null,
      "outputs": []
    },
    {
      "cell_type": "code",
      "source": [
        "# Solution:\n",
        "# 1. Replace all the special characters into '' with replace method\n",
        "# 2. Split the sentence into list with split method.\n",
        "# 3. Calculate avg length."
      ],
      "metadata": {
        "id": "4dwkHerodsKZ"
      },
      "execution_count": null,
      "outputs": []
    },
    {
      "cell_type": "code",
      "source": [
        "def calculate_avg_word_len(sentence):\n",
        "  special_chars = '.,!?-;'\n",
        "  for i in special_chars:\n",
        "    sentence = sentence.replace(i, '')\n",
        "  words = sentence.split()\n",
        "  words_len = [len(x) for x in words]\n",
        "  return round(sum(words_len)/len(words), 2)"
      ],
      "metadata": {
        "id": "gSQ-De1NfNzl"
      },
      "execution_count": null,
      "outputs": []
    },
    {
      "cell_type": "code",
      "source": [
        "calculate_avg_word_len(sentence2)"
      ],
      "metadata": {
        "id": "3JctN79af1VT"
      },
      "execution_count": null,
      "outputs": []
    },
    {
      "cell_type": "code",
      "source": [
        "# Task 2: Given a string, find the first non-repeating character in it and return its index. \n",
        "# If it doesn't exist, return -1"
      ],
      "metadata": {
        "id": "idOpvd08f6jV"
      },
      "execution_count": null,
      "outputs": []
    },
    {
      "cell_type": "code",
      "source": [
        "# Solution: \n",
        "# 1. Create dict which counts every char in word.\n",
        "# 1a. Assing 1 if key not in dict, add +1 if key already in dict.\n",
        "# 2. For first key which has value 1 return index.\n",
        "# 3. If no value equals 1 return -1"
      ],
      "metadata": {
        "id": "96fKBkhIiWRn"
      },
      "execution_count": null,
      "outputs": []
    },
    {
      "cell_type": "code",
      "source": [
        "def find_non_repeating_char(word):\n",
        "  char_freq = {}\n",
        "  for i in word:\n",
        "    if i not in char_freq:\n",
        "      char_freq[i] = 1\n",
        "    else:\n",
        "      char_freq[i] += 1\n",
        "  for i, char in enumerate(word):\n",
        "    if char_freq[char] == 1:\n",
        "      return i\n",
        "  return -1"
      ],
      "metadata": {
        "id": "rVkiKgp6jUaA"
      },
      "execution_count": null,
      "outputs": []
    },
    {
      "cell_type": "code",
      "source": [
        "find_non_repeating_char('alphabet')"
      ],
      "metadata": {
        "id": "R_YlyGjGkSSR"
      },
      "execution_count": null,
      "outputs": []
    },
    {
      "cell_type": "code",
      "source": [
        "import collections"
      ],
      "metadata": {
        "id": "eGjX8PpilUME"
      },
      "execution_count": null,
      "outputs": []
    },
    {
      "cell_type": "code",
      "source": [
        "char_freq_2 = collections.Counter('alphabet')"
      ],
      "metadata": {
        "id": "I5nCx6k_lXVq"
      },
      "execution_count": null,
      "outputs": []
    },
    {
      "cell_type": "code",
      "source": [
        "for i, char in enumerate('alphabet'):\n",
        "  if char_freq_2[char] == 1:\n",
        "    print(i)\n",
        "    break"
      ],
      "metadata": {
        "id": "HTrpoP-Olc_L"
      },
      "execution_count": null,
      "outputs": []
    },
    {
      "cell_type": "code",
      "source": [
        "#Task 3:\n",
        "#Given an array nums, write a function to move all zeroes to the end of it while maintaining the relative order of \n",
        "#the non-zero elements.\n",
        "array1 = [0,1,0,3,12]\n",
        "array2 = [1,7,0,0,8,0,10,12,0,4]"
      ],
      "metadata": {
        "id": "U6zhImbilvhg"
      },
      "execution_count": null,
      "outputs": []
    },
    {
      "cell_type": "code",
      "source": [
        "# Solution:\n",
        "# 1. Iterate over sequence and if 0 appears, remove it with list.remove(0) and add it at the end with list.append(0)"
      ],
      "metadata": {
        "id": "mPMdNNbemVx4"
      },
      "execution_count": null,
      "outputs": []
    },
    {
      "cell_type": "code",
      "source": [
        "def move_zeros(nums):\n",
        "  for i in nums:\n",
        "    if i == 0:\n",
        "      nums.remove(0)\n",
        "      nums.append(0)\n",
        "  return nums"
      ],
      "metadata": {
        "id": "iMPHyR99m1qk"
      },
      "execution_count": null,
      "outputs": []
    },
    {
      "cell_type": "code",
      "source": [
        "move_zeros(array1)"
      ],
      "metadata": {
        "id": "fh64xWjUnXOt"
      },
      "execution_count": null,
      "outputs": []
    },
    {
      "cell_type": "code",
      "source": [
        "sorted(array1, reverse=True)"
      ],
      "metadata": {
        "id": "fVpITgRzneKA"
      },
      "execution_count": null,
      "outputs": []
    },
    {
      "cell_type": "code",
      "source": [
        "# Task4: Given an array containing None values fill in the None values with most recent \n",
        "# non None value in the array \n",
        "array1 = [None,None,2,3,None,None,5,None]"
      ],
      "metadata": {
        "id": "OOOYXuiCoIq5"
      },
      "execution_count": null,
      "outputs": []
    },
    {
      "cell_type": "code",
      "source": [
        "# Solution\n",
        "# 1. Iterate over sequence check if is None\n",
        "# 2. If it is not None assign value to variable and rewrite current value\n",
        "# 3. If it is None write value from variable."
      ],
      "metadata": {
        "id": "KHKYdAseo6Ni"
      },
      "execution_count": null,
      "outputs": []
    },
    {
      "cell_type": "code",
      "source": [
        "my_var = \"3.14\" #@param {type:\"string\"}\n",
        "#my_var = input()\n",
        "\n",
        "def rewrite_without_none(nums):\n",
        "  valid_value = my_var\n",
        "  output = []\n",
        "  for i in nums:\n",
        "    if i is not None:\n",
        "      valid_value = i\n",
        "      output.append(i)\n",
        "    else:\n",
        "      output.append(valid_value)\n",
        "  return output"
      ],
      "metadata": {
        "id": "cf3gfNojpwE2"
      },
      "execution_count": null,
      "outputs": []
    },
    {
      "cell_type": "code",
      "source": [
        "rewrite_without_none(array1)"
      ],
      "metadata": {
        "id": "2YgQDymHqUW_"
      },
      "execution_count": null,
      "outputs": []
    },
    {
      "cell_type": "code",
      "source": [
        "# Define a function which can generate a list where the values are square of numbers \n",
        "# between a1 and a2 (both included) and cube of numbers between b1 and b2.\n",
        "# Then the function needs to print every  second element from with reversed order in the list."
      ],
      "metadata": {
        "id": "Y5rkRVa7qWii"
      },
      "execution_count": null,
      "outputs": []
    },
    {
      "cell_type": "code",
      "source": [
        "# Solution:\n",
        "# 1. Define function which takes 4 arguments.\n",
        "# 2. Create a list using list comprehension which calculates **2 in range(a1, a2)\n",
        "# 3. Create second list using list comp. which calculates ***3 in range(b1, b2)\n",
        "# 4. Merge those two lists.\n",
        "# 5. Print result using list slices\n",
        "\n",
        "# hint: reversed list: list[::-1]"
      ],
      "metadata": {
        "id": "0LRYXIxlsuwz"
      },
      "execution_count": null,
      "outputs": []
    },
    {
      "cell_type": "code",
      "source": [
        "def generate_squares_and_cubes(a1, a2, b1, b2):\n",
        "  squares = [x**2 for x in range(a1, a2)]\n",
        "  cubes = [x**3 for x in range(b1, b2)]\n",
        "  result = squares + cubes\n",
        "  return result[::-2]"
      ],
      "metadata": {
        "id": "yJ1MXZbgsv-c"
      },
      "execution_count": null,
      "outputs": []
    },
    {
      "cell_type": "code",
      "source": [
        "def generate_squares_and_cubes_2(a1, a2, b1, b2):\n",
        "  return ([x**2 for x in range(a1, a2)] + [x**3 for x in range(b1, b2)])[::-2]"
      ],
      "metadata": {
        "id": "y8wK3IqPvnC2"
      },
      "execution_count": null,
      "outputs": []
    },
    {
      "cell_type": "code",
      "source": [
        "result = generate_squares_and_cubes(0, 20, 30, 60)"
      ],
      "metadata": {
        "id": "dhQD1VsPuf1o"
      },
      "execution_count": null,
      "outputs": []
    },
    {
      "cell_type": "code",
      "source": [
        "result"
      ],
      "metadata": {
        "id": "Lnm3OeZwu6w2"
      },
      "execution_count": null,
      "outputs": []
    },
    {
      "cell_type": "code",
      "source": [
        "generate_squares_and_cubes_2(0, 20, 30, 60)"
      ],
      "metadata": {
        "id": "7pYpz9mZvITM"
      },
      "execution_count": null,
      "outputs": []
    },
    {
      "cell_type": "code",
      "source": [],
      "metadata": {
        "id": "PkZJB91Dvus1"
      },
      "execution_count": null,
      "outputs": []
    }
  ]
}